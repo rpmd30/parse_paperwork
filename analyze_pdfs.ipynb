{
 "cells": [
  {
   "cell_type": "code",
   "execution_count": null,
   "metadata": {},
   "outputs": [],
   "source": [
    "\"\"\"\n",
    "Ravi Patel\n",
    "Objective: Get dwelling and totoal premium from pdfs\n",
    "Notes: Here, the decision was made to bypass attempting the search for the page with the keyword because of limited time. \n",
    "Plan: \n",
    "    1. Split pdfs into images\n",
    "    2. Use either pytesseract or easyocr to extract text\n",
    "    3. Use jellyfish to compare text to keywords\n",
    "    4. If keywords are found, then attempt to gather only numbers from rows. \n",
    "Improvements:\n",
    "    - Attempt to index all of the text for search later to find page to focus on.\n",
    "    - Ingest data from pdfs into a vector database and use AI query to find data.\n",
    "    - Check viability of zeroshot model to query image\n",
    "    - Evaluate CV models to find specific matches\n",
    "    \n",
    "\"\"\"\n",
    "\n",
    "import fitz\n",
    "import matplotlib.pyplot as plt\n",
    "import jellyfish\n",
    "import cv2\n",
    "import numpy as np\n",
    "import pytesseract\n",
    "import os\n",
    "import easyocr\n",
    "from PIL import Image\n",
    "\n",
    "reader = easyocr.Reader(['en'])"
   ]
  },
  {
   "cell_type": "code",
   "execution_count": null,
   "metadata": {},
   "outputs": [],
   "source": [
    "def split_pdf(pdf_path: str, output_path: str):\n",
    "    \"\"\"\n",
    "    Splits a PDF file into individual pages and saves each page as a PNG image.\n",
    "\n",
    "    Parameters:\n",
    "    pdf_path (str): The path to the PDF file to be split.\n",
    "    output_path (str): The directory where the output PNG images will be saved.\n",
    "\n",
    "    Returns:\n",
    "    None\n",
    "    \"\"\"\n",
    "    if not os.path.exists(output_path):\n",
    "        os.makedirs(output_path)\n",
    "    doc = fitz.open(pdf_path)\n",
    "    for page_number, page_data in enumerate(doc):\n",
    "        pix = page_data.get_pixmap()\n",
    "        img_path = os.path.join(output_path, f\"page-{page_number}.png\")\n",
    "        pix.save(img_path)\n",
    "    doc.close()"
   ]
  },
  {
   "cell_type": "code",
   "execution_count": null,
   "metadata": {},
   "outputs": [],
   "source": [
    "CURRENT_OUTPUT_DIR = 'auto-8'\n",
    "split_pdf('auto-8.pdf',CURRENT_OUTPUT_DIR)\n"
   ]
  },
  {
   "cell_type": "code",
   "execution_count": null,
   "metadata": {},
   "outputs": [],
   "source": [
    "def get_phrase_value(\n",
    "    phrase: str, image_path: str, show_image: bool = False, threshold: float = 0.8\n",
    "):\n",
    "    \"\"\"\n",
    "    Extracts and returns the values of a given phrase from an image.\n",
    "\n",
    "    Parameters:\n",
    "    phrase (str): The phrase to search for in the image.\n",
    "    image_path (str): The path to the image file.\n",
    "    show_image (bool, optional): If True, the image with the found phrase highlighted will be displayed. Defaults to False.\n",
    "    threshold (float, optional): The similarity threshold for the phrase match. Defaults to 0.8.\n",
    "\n",
    "    Returns:\n",
    "    list: A list of values associated with the found phrase in the image.\n",
    "    \"\"\"\n",
    "    result = reader.readtext(image_path)\n",
    "    res = [\n",
    "        result_\n",
    "        for result_ in result\n",
    "        if jellyfish.jaro_similarity(result_[1].lower(), phrase) > threshold\n",
    "    ]\n",
    "    #TODO: Refactor code to remove repeat loops\n",
    "    if show_image:\n",
    "        show_image = cv2.imread(image_path)\n",
    "        for phrase_found in res:\n",
    "            x_min, y_min = [int(min(cord)) for cord in zip(*phrase_found[0])]\n",
    "            x_max, y_max = [int(max(cord)) for cord in zip(*phrase_found[0])]\n",
    "            font = cv2.FONT_HERSHEY_SIMPLEX\n",
    "            show_image = cv2.rectangle(\n",
    "                show_image,\n",
    "                (x_min, y_min),\n",
    "                (x_max, y_max),\n",
    "                (0, 255, 0),\n",
    "                3,\n",
    "            )\n",
    "            show_image = cv2.putText(\n",
    "                show_image,\n",
    "                f\"<{phrase}>\",\n",
    "                (x_min, y_min),\n",
    "                font,\n",
    "                1,\n",
    "                (255, 0, 0),\n",
    "                3,\n",
    "                cv2.LINE_AA,\n",
    "            )\n",
    "        _, ax = plt.subplots(figsize=(15, 15))\n",
    "        ax.imshow(show_image)\n",
    "        ax.axis(\"off\")\n",
    "        plt.show()\n",
    "\n",
    "    rates = []\n",
    "    for phrase_found in res:\n",
    "        x_min, y_min = [int(min(cord)) for cord in zip(*phrase_found[0])]\n",
    "        x_max, y_max = [int(max(cord)) for cord in zip(*phrase_found[0])]\n",
    "        current = cv2.imread(image_path)\n",
    "        # Add buffer to ensure all text is captured\n",
    "        row = Image.fromarray(current[y_min - 1 : y_max + 1, :])\n",
    "        rate = pytesseract.image_to_string(\n",
    "            row, config=\"-c tessedit_char_whitelist=0123456789.\"\n",
    "        ).strip()\n",
    "        if rate:\n",
    "            rates.append(rate)\n",
    "    return rates"
   ]
  },
  {
   "cell_type": "code",
   "execution_count": null,
   "metadata": {},
   "outputs": [],
   "source": [
    "get_phrase_value('dwelling', f'{CURRENT_OUTPUT_DIR}/page-10.png', show_image=True)\n",
    "# We found it."
   ]
  },
  {
   "cell_type": "code",
   "execution_count": null,
   "metadata": {},
   "outputs": [],
   "source": [
    "get_phrase_value('total annual premium', f'{CURRENT_OUTPUT_DIR}/page-10.png', show_image=True)\n",
    "# Found it."
   ]
  },
  {
   "cell_type": "code",
   "execution_count": null,
   "metadata": {},
   "outputs": [],
   "source": [
    "CURRENT_OUTPUT_DIR = \"auto19\"\n",
    "split_pdf(\"auto19.pdf\", CURRENT_OUTPUT_DIR)"
   ]
  },
  {
   "cell_type": "code",
   "execution_count": null,
   "metadata": {},
   "outputs": [],
   "source": [
    "get_phrase_value('dwelling', f'{CURRENT_OUTPUT_DIR}/page-2.png', show_image=True)\n",
    "# this one will require some more TLC to get the correct value, possible opportunity evaluate against the distribution of other values. "
   ]
  },
  {
   "cell_type": "code",
   "execution_count": null,
   "metadata": {},
   "outputs": [],
   "source": [
    "get_phrase_value('total annual premium', f'{CURRENT_OUTPUT_DIR}/page-2.png', show_image=True, threshold=0.7)\n",
    "# Found it."
   ]
  }
 ],
 "metadata": {
  "kernelspec": {
   "display_name": "venv",
   "language": "python",
   "name": "python3"
  },
  "language_info": {
   "codemirror_mode": {
    "name": "ipython",
    "version": 3
   },
   "file_extension": ".py",
   "mimetype": "text/x-python",
   "name": "python",
   "nbconvert_exporter": "python",
   "pygments_lexer": "ipython3",
   "version": "3.10.13"
  }
 },
 "nbformat": 4,
 "nbformat_minor": 2
}
